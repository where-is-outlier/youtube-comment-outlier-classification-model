{
 "cells": [
  {
   "cell_type": "code",
   "execution_count": 1,
   "id": "5eb16315",
   "metadata": {},
   "outputs": [],
   "source": [
    "import pandas as pd"
   ]
  },
  {
   "cell_type": "markdown",
   "id": "ed674eed",
   "metadata": {},
   "source": [
    "### 새로운 댓글 샘플"
   ]
  },
  {
   "cell_type": "code",
   "execution_count": 2,
   "id": "c4d50431",
   "metadata": {},
   "outputs": [
    {
     "data": {
      "text/html": [
       "<div>\n",
       "<style scoped>\n",
       "    .dataframe tbody tr th:only-of-type {\n",
       "        vertical-align: middle;\n",
       "    }\n",
       "\n",
       "    .dataframe tbody tr th {\n",
       "        vertical-align: top;\n",
       "    }\n",
       "\n",
       "    .dataframe thead th {\n",
       "        text-align: right;\n",
       "    }\n",
       "</style>\n",
       "<table border=\"1\" class=\"dataframe\">\n",
       "  <thead>\n",
       "    <tr style=\"text-align: right;\">\n",
       "      <th></th>\n",
       "      <th>comment</th>\n",
       "      <th>author</th>\n",
       "      <th>date</th>\n",
       "      <th>num_likes</th>\n",
       "      <th>title</th>\n",
       "    </tr>\n",
       "  </thead>\n",
       "  <tbody>\n",
       "    <tr>\n",
       "      <th>0</th>\n",
       "      <td>cctv가 버젓이 있는데&lt;br&gt;무슨 생각으로 저랬을까</td>\n",
       "      <td>downy</td>\n",
       "      <td>2023-11-03T02:10:38Z</td>\n",
       "      <td>0</td>\n",
       "      <td>'부산 서면 돌려차기 사건' 드디어 밝혀진 진실 [shorts]</td>\n",
       "    </tr>\n",
       "    <tr>\n",
       "      <th>1</th>\n",
       "      <td>35년에서 판사가 용서해줘서 형량 줄어들지 않았나?</td>\n",
       "      <td>ㅇ</td>\n",
       "      <td>2023-11-02T22:06:15Z</td>\n",
       "      <td>0</td>\n",
       "      <td>'부산 서면 돌려차기 사건' 드디어 밝혀진 진실 [shorts]</td>\n",
       "    </tr>\n",
       "    <tr>\n",
       "      <th>2</th>\n",
       "      <td>참고로 주먹은 자기자신보다 강한사람을 때리는것 이지요</td>\n",
       "      <td>서종범</td>\n",
       "      <td>2023-11-02T14:04:18Z</td>\n",
       "      <td>0</td>\n",
       "      <td>'부산 서면 돌려차기 사건' 드디어 밝혀진 진실 [shorts]</td>\n",
       "    </tr>\n",
       "    <tr>\n",
       "      <th>3</th>\n",
       "      <td>사회에 나와봐야  도움도  안됨/ 사형이  답/ 또  다른  피해자를  만들지  마소서</td>\n",
       "      <td>식물 그리고 커피한잔</td>\n",
       "      <td>2023-11-02T13:02:30Z</td>\n",
       "      <td>0</td>\n",
       "      <td>'부산 서면 돌려차기 사건' 드디어 밝혀진 진실 [shorts]</td>\n",
       "    </tr>\n",
       "    <tr>\n",
       "      <th>4</th>\n",
       "      <td>잘 된 일이기는 한데 ...어케 조두순보다 형량이 높지????</td>\n",
       "      <td>프라다임페리얼</td>\n",
       "      <td>2023-11-02T08:31:06Z</td>\n",
       "      <td>0</td>\n",
       "      <td>'부산 서면 돌려차기 사건' 드디어 밝혀진 진실 [shorts]</td>\n",
       "    </tr>\n",
       "    <tr>\n",
       "      <th>...</th>\n",
       "      <td>...</td>\n",
       "      <td>...</td>\n",
       "      <td>...</td>\n",
       "      <td>...</td>\n",
       "      <td>...</td>\n",
       "    </tr>\n",
       "    <tr>\n",
       "      <th>18173</th>\n",
       "      <td>부모들이 아니라 정확히 &amp;quot;엄마들&amp;quot;&lt;br&gt;선생 괴롭히는거 다 여자들임</td>\n",
       "      <td>ㅇㅇ</td>\n",
       "      <td>2023-09-10T07:47:14Z</td>\n",
       "      <td>8</td>\n",
       "      <td>[자막뉴스] \"넌 자식이 없어서 그러냐?\" 폭언하던 학부모, 결국... / YTN</td>\n",
       "    </tr>\n",
       "    <tr>\n",
       "      <th>18174</th>\n",
       "      <td>종교인이 우울증 걸린다? ㅋ.ㅋ&lt;br&gt;사이비냐?</td>\n",
       "      <td>아수라발발타</td>\n",
       "      <td>2023-09-10T09:18:39Z</td>\n",
       "      <td>0</td>\n",
       "      <td>[자막뉴스] \"넌 자식이 없어서 그러냐?\" 폭언하던 학부모, 결국... / YTN</td>\n",
       "    </tr>\n",
       "    <tr>\n",
       "      <th>18175</th>\n",
       "      <td>@아수라발발타너같은 마귀가 득세하면 그럴수도 있는거지.</td>\n",
       "      <td>왜구박멸자</td>\n",
       "      <td>2023-09-11T00:31:13Z</td>\n",
       "      <td>0</td>\n",
       "      <td>[자막뉴스] \"넌 자식이 없어서 그러냐?\" 폭언하던 학부모, 결국... / YTN</td>\n",
       "    </tr>\n",
       "    <tr>\n",
       "      <th>18176</th>\n",
       "      <td>​​@ㅇㅇ여기서도 갈라치기냐 왕의 dna사건도 아빤데</td>\n",
       "      <td>rdsdhkhcgj</td>\n",
       "      <td>2023-09-11T05:08:13Z</td>\n",
       "      <td>6</td>\n",
       "      <td>[자막뉴스] \"넌 자식이 없어서 그러냐?\" 폭언하던 학부모, 결국... / YTN</td>\n",
       "    </tr>\n",
       "    <tr>\n",
       "      <th>18177</th>\n",
       "      <td>더럽고 추잡하고 비린내나는 애낳은 인간들. 학부모.</td>\n",
       "      <td>kk kk</td>\n",
       "      <td>2023-09-10T05:08:43Z</td>\n",
       "      <td>1</td>\n",
       "      <td>[자막뉴스] \"넌 자식이 없어서 그러냐?\" 폭언하던 학부모, 결국... / YTN</td>\n",
       "    </tr>\n",
       "  </tbody>\n",
       "</table>\n",
       "<p>18178 rows × 5 columns</p>\n",
       "</div>"
      ],
      "text/plain": [
       "                                                comment       author  \\\n",
       "0                         cctv가 버젓이 있는데<br>무슨 생각으로 저랬을까        downy   \n",
       "1                          35년에서 판사가 용서해줘서 형량 줄어들지 않았나?            ㅇ   \n",
       "2                         참고로 주먹은 자기자신보다 강한사람을 때리는것 이지요          서종범   \n",
       "3      사회에 나와봐야  도움도  안됨/ 사형이  답/ 또  다른  피해자를  만들지  마소서  식물 그리고 커피한잔   \n",
       "4                    잘 된 일이기는 한데 ...어케 조두순보다 형량이 높지????      프라다임페리얼   \n",
       "...                                                 ...          ...   \n",
       "18173   부모들이 아니라 정확히 &quot;엄마들&quot;<br>선생 괴롭히는거 다 여자들임           ㅇㅇ   \n",
       "18174                        종교인이 우울증 걸린다? ㅋ.ㅋ<br>사이비냐?       아수라발발타   \n",
       "18175                    @아수라발발타너같은 마귀가 득세하면 그럴수도 있는거지.        왜구박멸자   \n",
       "18176                     ​​@ㅇㅇ여기서도 갈라치기냐 왕의 dna사건도 아빤데   rdsdhkhcgj   \n",
       "18177                      더럽고 추잡하고 비린내나는 애낳은 인간들. 학부모.        kk kk   \n",
       "\n",
       "                       date  num_likes  \\\n",
       "0      2023-11-03T02:10:38Z          0   \n",
       "1      2023-11-02T22:06:15Z          0   \n",
       "2      2023-11-02T14:04:18Z          0   \n",
       "3      2023-11-02T13:02:30Z          0   \n",
       "4      2023-11-02T08:31:06Z          0   \n",
       "...                     ...        ...   \n",
       "18173  2023-09-10T07:47:14Z          8   \n",
       "18174  2023-09-10T09:18:39Z          0   \n",
       "18175  2023-09-11T00:31:13Z          0   \n",
       "18176  2023-09-11T05:08:13Z          6   \n",
       "18177  2023-09-10T05:08:43Z          1   \n",
       "\n",
       "                                               title  \n",
       "0                '부산 서면 돌려차기 사건' 드디어 밝혀진 진실 [shorts]  \n",
       "1                '부산 서면 돌려차기 사건' 드디어 밝혀진 진실 [shorts]  \n",
       "2                '부산 서면 돌려차기 사건' 드디어 밝혀진 진실 [shorts]  \n",
       "3                '부산 서면 돌려차기 사건' 드디어 밝혀진 진실 [shorts]  \n",
       "4                '부산 서면 돌려차기 사건' 드디어 밝혀진 진실 [shorts]  \n",
       "...                                              ...  \n",
       "18173  [자막뉴스] \"넌 자식이 없어서 그러냐?\" 폭언하던 학부모, 결국... / YTN  \n",
       "18174  [자막뉴스] \"넌 자식이 없어서 그러냐?\" 폭언하던 학부모, 결국... / YTN  \n",
       "18175  [자막뉴스] \"넌 자식이 없어서 그러냐?\" 폭언하던 학부모, 결국... / YTN  \n",
       "18176  [자막뉴스] \"넌 자식이 없어서 그러냐?\" 폭언하던 학부모, 결국... / YTN  \n",
       "18177  [자막뉴스] \"넌 자식이 없어서 그러냐?\" 폭언하던 학부모, 결국... / YTN  \n",
       "\n",
       "[18178 rows x 5 columns]"
      ]
     },
     "execution_count": 2,
     "metadata": {},
     "output_type": "execute_result"
    }
   ],
   "source": [
    "df = pd.read_excel(\"text_novelty_detection_sample.xlsx\")\n",
    "df"
   ]
  },
  {
   "cell_type": "code",
   "execution_count": 12,
   "id": "7e23e7ac",
   "metadata": {},
   "outputs": [],
   "source": [
    "from bs4 import BeautifulSoup\n",
    "import emoji\n",
    "from soynlp.normalizer import repeat_normalize\n",
    "import re\n",
    "from emoji import core"
   ]
  },
  {
   "cell_type": "code",
   "execution_count": 3,
   "id": "238c721d",
   "metadata": {},
   "outputs": [
    {
     "name": "stdout",
     "output_type": "stream",
     "text": [
      "Requirement already satisfied: emoji in c:\\users\\hwwe1\\anaconda3\\lib\\site-packages (2.6.0)\n"
     ]
    }
   ],
   "source": [
    "!pip install emoji"
   ]
  },
  {
   "cell_type": "code",
   "execution_count": 4,
   "id": "33acb9f0",
   "metadata": {},
   "outputs": [
    {
     "name": "stdout",
     "output_type": "stream",
     "text": [
      "Requirement already satisfied: soynlp in c:\\users\\hwwe1\\anaconda3\\lib\\site-packages (0.0.493)\n",
      "Requirement already satisfied: numpy>=1.12.1 in c:\\users\\hwwe1\\anaconda3\\lib\\site-packages (from soynlp) (1.24.3)\n",
      "Requirement already satisfied: psutil>=5.0.1 in c:\\users\\hwwe1\\anaconda3\\lib\\site-packages (from soynlp) (5.9.0)\n",
      "Requirement already satisfied: scipy>=1.1.0 in c:\\users\\hwwe1\\anaconda3\\lib\\site-packages (from soynlp) (1.9.1)\n",
      "Requirement already satisfied: scikit-learn>=0.20.0 in c:\\users\\hwwe1\\anaconda3\\lib\\site-packages (from soynlp) (1.0.2)\n",
      "Requirement already satisfied: threadpoolctl>=2.0.0 in c:\\users\\hwwe1\\anaconda3\\lib\\site-packages (from scikit-learn>=0.20.0->soynlp) (2.2.0)\n",
      "Requirement already satisfied: joblib>=0.11 in c:\\users\\hwwe1\\anaconda3\\lib\\site-packages (from scikit-learn>=0.20.0->soynlp) (1.1.1)\n"
     ]
    }
   ],
   "source": [
    "!pip install soynlp"
   ]
  },
  {
   "cell_type": "code",
   "execution_count": 5,
   "id": "41b3da77",
   "metadata": {},
   "outputs": [],
   "source": [
    "# 이 아래에는 함수를 적는 곳입니다.\n",
    "def remove_html_tags(text):\n",
    "    if isinstance(text, str):\n",
    "        soup = BeautifulSoup(text, \"html.parser\")\n",
    "        clean_text = soup.get_text()\n",
    "        return clean_text\n",
    "    else:  # Non-string values (e.g., NaN, None, float)\n",
    "        return text  # or return \"\" if you want to return an empty string\n",
    "\n",
    "def contains_korean(text):\n",
    "    if not isinstance(text, str):\n",
    "        return False\n",
    "    pattern = r\"[ㄱ-ㅎㅏ-ㅣ가-힣]\"\n",
    "    return bool(re.search(pattern, text))\n",
    "\n",
    "def clean_text(inputString):\n",
    "  text_rmv = re.sub('[-=+,#/\\?:^.@*\\\"※~ㆍ!』‘|\\(\\)\\[\\]`\\'…》\\”\\“\\’·]', ' ', inputString)\n",
    "  return text_rmv"
   ]
  },
  {
   "cell_type": "code",
   "execution_count": 13,
   "id": "4efbf493",
   "metadata": {},
   "outputs": [],
   "source": [
    "def corpus_preprocess(df):\n",
    "    df = df[~df['comment'].str.contains(\"@\", na=False)]          # 저격 대댓글 걸러냄\n",
    "\n",
    "    df['comment'] = df['comment'].apply(remove_html_tags)\n",
    "    df = df[df[\"comment\"].apply(contains_korean)] # 한글 없는 텍스트 제거\n",
    "    df['comment'] = df['comment'].apply(lambda x: core.replace_emoji(x, replace= \"\")) # 이모티콘 제거\n",
    "    df['comment'] = df['comment'].apply(clean_text) # 특수문자 제거\n",
    "    df['comment'] = df['comment'].apply(lambda x: ' '.join(x.split()))  # 다중 띄어쓰기 -> 단일 띄어쓰기\n",
    "    df = df.reset_index(drop = True)\n",
    "    df = df.drop_duplicates([\"comment\", \"author\"]) # 중복 댓글 제거\n",
    "    df = df.reset_index(drop = True)\n",
    "\n",
    "    df[\"length\"] = df[\"comment\"].str.len() \n",
    "    df = df[(df[\"length\"] > 3)&(df[\"length\"] < 500)] # 길이 3 미만 -> 의미없는 댓글이므로 지움\n",
    "\n",
    "    return df"
   ]
  },
  {
   "cell_type": "code",
   "execution_count": 14,
   "id": "0e239fb5",
   "metadata": {},
   "outputs": [
    {
     "name": "stderr",
     "output_type": "stream",
     "text": [
      "C:\\Users\\hwwe1\\AppData\\Local\\Temp\\ipykernel_23312\\893606400.py:4: SettingWithCopyWarning: \n",
      "A value is trying to be set on a copy of a slice from a DataFrame.\n",
      "Try using .loc[row_indexer,col_indexer] = value instead\n",
      "\n",
      "See the caveats in the documentation: https://pandas.pydata.org/pandas-docs/stable/user_guide/indexing.html#returning-a-view-versus-a-copy\n",
      "  df['comment'] = df['comment'].apply(remove_html_tags)\n"
     ]
    },
    {
     "data": {
      "text/html": [
       "<div>\n",
       "<style scoped>\n",
       "    .dataframe tbody tr th:only-of-type {\n",
       "        vertical-align: middle;\n",
       "    }\n",
       "\n",
       "    .dataframe tbody tr th {\n",
       "        vertical-align: top;\n",
       "    }\n",
       "\n",
       "    .dataframe thead th {\n",
       "        text-align: right;\n",
       "    }\n",
       "</style>\n",
       "<table border=\"1\" class=\"dataframe\">\n",
       "  <thead>\n",
       "    <tr style=\"text-align: right;\">\n",
       "      <th></th>\n",
       "      <th>comment</th>\n",
       "      <th>author</th>\n",
       "      <th>date</th>\n",
       "      <th>num_likes</th>\n",
       "      <th>title</th>\n",
       "      <th>length</th>\n",
       "    </tr>\n",
       "  </thead>\n",
       "  <tbody>\n",
       "    <tr>\n",
       "      <th>0</th>\n",
       "      <td>cctv가 버젓이 있는데무슨 생각으로 저랬을까</td>\n",
       "      <td>downy</td>\n",
       "      <td>2023-11-03T02:10:38Z</td>\n",
       "      <td>0</td>\n",
       "      <td>'부산 서면 돌려차기 사건' 드디어 밝혀진 진실 [shorts]</td>\n",
       "      <td>25</td>\n",
       "    </tr>\n",
       "    <tr>\n",
       "      <th>1</th>\n",
       "      <td>35년에서 판사가 용서해줘서 형량 줄어들지 않았나</td>\n",
       "      <td>ㅇ</td>\n",
       "      <td>2023-11-02T22:06:15Z</td>\n",
       "      <td>0</td>\n",
       "      <td>'부산 서면 돌려차기 사건' 드디어 밝혀진 진실 [shorts]</td>\n",
       "      <td>27</td>\n",
       "    </tr>\n",
       "    <tr>\n",
       "      <th>2</th>\n",
       "      <td>참고로 주먹은 자기자신보다 강한사람을 때리는것 이지요</td>\n",
       "      <td>서종범</td>\n",
       "      <td>2023-11-02T14:04:18Z</td>\n",
       "      <td>0</td>\n",
       "      <td>'부산 서면 돌려차기 사건' 드디어 밝혀진 진실 [shorts]</td>\n",
       "      <td>29</td>\n",
       "    </tr>\n",
       "    <tr>\n",
       "      <th>3</th>\n",
       "      <td>사회에 나와봐야 도움도 안됨 사형이 답 또 다른 피해자를 만들지 마소서</td>\n",
       "      <td>식물 그리고 커피한잔</td>\n",
       "      <td>2023-11-02T13:02:30Z</td>\n",
       "      <td>0</td>\n",
       "      <td>'부산 서면 돌려차기 사건' 드디어 밝혀진 진실 [shorts]</td>\n",
       "      <td>39</td>\n",
       "    </tr>\n",
       "    <tr>\n",
       "      <th>4</th>\n",
       "      <td>잘 된 일이기는 한데 어케 조두순보다 형량이 높지</td>\n",
       "      <td>프라다임페리얼</td>\n",
       "      <td>2023-11-02T08:31:06Z</td>\n",
       "      <td>0</td>\n",
       "      <td>'부산 서면 돌려차기 사건' 드디어 밝혀진 진실 [shorts]</td>\n",
       "      <td>27</td>\n",
       "    </tr>\n",
       "    <tr>\n",
       "      <th>...</th>\n",
       "      <td>...</td>\n",
       "      <td>...</td>\n",
       "      <td>...</td>\n",
       "      <td>...</td>\n",
       "      <td>...</td>\n",
       "      <td>...</td>\n",
       "    </tr>\n",
       "    <tr>\n",
       "      <th>17872</th>\n",
       "      <td>자식이 없는걸 지구님은 바라실겁니다 인간의 번식은 가치쓸모가 없는 쓰레기라고 지구님...</td>\n",
       "      <td>E지구에 붙어사는 인간!</td>\n",
       "      <td>2023-09-10T05:17:08Z</td>\n",
       "      <td>1</td>\n",
       "      <td>[자막뉴스] \"넌 자식이 없어서 그러냐?\" 폭언하던 학부모, 결국... / YTN</td>\n",
       "      <td>203</td>\n",
       "    </tr>\n",
       "    <tr>\n",
       "      <th>17873</th>\n",
       "      <td>집에서 당신이 키우세요</td>\n",
       "      <td>카일라스를 꿈꾸며</td>\n",
       "      <td>2023-09-10T05:15:41Z</td>\n",
       "      <td>88</td>\n",
       "      <td>[자막뉴스] \"넌 자식이 없어서 그러냐?\" 폭언하던 학부모, 결국... / YTN</td>\n",
       "      <td>12</td>\n",
       "    </tr>\n",
       "    <tr>\n",
       "      <th>17874</th>\n",
       "      <td>애를 소중히 한다고는 하면서 애 망치는 부모들</td>\n",
       "      <td>김준하</td>\n",
       "      <td>2023-09-10T05:12:01Z</td>\n",
       "      <td>721</td>\n",
       "      <td>[자막뉴스] \"넌 자식이 없어서 그러냐?\" 폭언하던 학부모, 결국... / YTN</td>\n",
       "      <td>25</td>\n",
       "    </tr>\n",
       "    <tr>\n",
       "      <th>17875</th>\n",
       "      <td>부모들이 아니라 정확히 엄마들 선생 괴롭히는거 다 여자들임</td>\n",
       "      <td>ㅇㅇ</td>\n",
       "      <td>2023-09-10T07:47:14Z</td>\n",
       "      <td>8</td>\n",
       "      <td>[자막뉴스] \"넌 자식이 없어서 그러냐?\" 폭언하던 학부모, 결국... / YTN</td>\n",
       "      <td>32</td>\n",
       "    </tr>\n",
       "    <tr>\n",
       "      <th>17876</th>\n",
       "      <td>더럽고 추잡하고 비린내나는 애낳은 인간들 학부모</td>\n",
       "      <td>kk kk</td>\n",
       "      <td>2023-09-10T05:08:43Z</td>\n",
       "      <td>1</td>\n",
       "      <td>[자막뉴스] \"넌 자식이 없어서 그러냐?\" 폭언하던 학부모, 결국... / YTN</td>\n",
       "      <td>26</td>\n",
       "    </tr>\n",
       "  </tbody>\n",
       "</table>\n",
       "<p>17547 rows × 6 columns</p>\n",
       "</div>"
      ],
      "text/plain": [
       "                                                 comment         author  \\\n",
       "0                              cctv가 버젓이 있는데무슨 생각으로 저랬을까          downy   \n",
       "1                            35년에서 판사가 용서해줘서 형량 줄어들지 않았나              ㅇ   \n",
       "2                          참고로 주먹은 자기자신보다 강한사람을 때리는것 이지요            서종범   \n",
       "3                사회에 나와봐야 도움도 안됨 사형이 답 또 다른 피해자를 만들지 마소서    식물 그리고 커피한잔   \n",
       "4                            잘 된 일이기는 한데 어케 조두순보다 형량이 높지        프라다임페리얼   \n",
       "...                                                  ...            ...   \n",
       "17872  자식이 없는걸 지구님은 바라실겁니다 인간의 번식은 가치쓸모가 없는 쓰레기라고 지구님...  E지구에 붙어사는 인간!   \n",
       "17873                                       집에서 당신이 키우세요      카일라스를 꿈꾸며   \n",
       "17874                          애를 소중히 한다고는 하면서 애 망치는 부모들            김준하   \n",
       "17875                   부모들이 아니라 정확히 엄마들 선생 괴롭히는거 다 여자들임             ㅇㅇ   \n",
       "17876                         더럽고 추잡하고 비린내나는 애낳은 인간들 학부모          kk kk   \n",
       "\n",
       "                       date  num_likes  \\\n",
       "0      2023-11-03T02:10:38Z          0   \n",
       "1      2023-11-02T22:06:15Z          0   \n",
       "2      2023-11-02T14:04:18Z          0   \n",
       "3      2023-11-02T13:02:30Z          0   \n",
       "4      2023-11-02T08:31:06Z          0   \n",
       "...                     ...        ...   \n",
       "17872  2023-09-10T05:17:08Z          1   \n",
       "17873  2023-09-10T05:15:41Z         88   \n",
       "17874  2023-09-10T05:12:01Z        721   \n",
       "17875  2023-09-10T07:47:14Z          8   \n",
       "17876  2023-09-10T05:08:43Z          1   \n",
       "\n",
       "                                               title  length  \n",
       "0                '부산 서면 돌려차기 사건' 드디어 밝혀진 진실 [shorts]      25  \n",
       "1                '부산 서면 돌려차기 사건' 드디어 밝혀진 진실 [shorts]      27  \n",
       "2                '부산 서면 돌려차기 사건' 드디어 밝혀진 진실 [shorts]      29  \n",
       "3                '부산 서면 돌려차기 사건' 드디어 밝혀진 진실 [shorts]      39  \n",
       "4                '부산 서면 돌려차기 사건' 드디어 밝혀진 진실 [shorts]      27  \n",
       "...                                              ...     ...  \n",
       "17872  [자막뉴스] \"넌 자식이 없어서 그러냐?\" 폭언하던 학부모, 결국... / YTN     203  \n",
       "17873  [자막뉴스] \"넌 자식이 없어서 그러냐?\" 폭언하던 학부모, 결국... / YTN      12  \n",
       "17874  [자막뉴스] \"넌 자식이 없어서 그러냐?\" 폭언하던 학부모, 결국... / YTN      25  \n",
       "17875  [자막뉴스] \"넌 자식이 없어서 그러냐?\" 폭언하던 학부모, 결국... / YTN      32  \n",
       "17876  [자막뉴스] \"넌 자식이 없어서 그러냐?\" 폭언하던 학부모, 결국... / YTN      26  \n",
       "\n",
       "[17547 rows x 6 columns]"
      ]
     },
     "execution_count": 14,
     "metadata": {},
     "output_type": "execute_result"
    }
   ],
   "source": [
    "df = corpus_preprocess(df)\n",
    "df"
   ]
  },
  {
   "cell_type": "code",
   "execution_count": 15,
   "id": "544faf2c",
   "metadata": {},
   "outputs": [],
   "source": [
    "df.to_excel(\"text_novelty_detection_sample_preprocessed.xlsx\", index = None)"
   ]
  },
  {
   "cell_type": "code",
   "execution_count": null,
   "id": "454c59b7",
   "metadata": {},
   "outputs": [],
   "source": []
  },
  {
   "cell_type": "markdown",
   "id": "85b1031f",
   "metadata": {},
   "source": [
    "### 사전 수정"
   ]
  },
  {
   "cell_type": "code",
   "execution_count": 17,
   "id": "40f57100",
   "metadata": {},
   "outputs": [],
   "source": [
    "import json"
   ]
  },
  {
   "cell_type": "code",
   "execution_count": 19,
   "id": "cbd9336e",
   "metadata": {},
   "outputs": [
    {
     "name": "stdout",
     "output_type": "stream",
     "text": [
      "'예수|하나님|석열|슬롯|문재인|문재앙|이재명|윤석열|민주당|한동훈|장관|법무부|더불어민주당|허경영|슬@롯@머@신|홀??덤|전라도|대깨문|좌파|우파|극우|극좌|이준석|정치|국회의원|선전|선동|사상|검찰|대통령|천공|건희|국민의힘|국힘|운동권|탄핵|정권교체|좌좀|이념|일베|클리앙|남팍|홍어|노무현|달빛창|김대중|땅끄|전두환|보빨|물소|버팔로|이기야|한남|냄져|김치녀|국회|국개|의원|오세훈|검새|완박|새누리|박근혜|우병우|최순실|대남|국정|청문회|박정희|이승만|야당|여당|민노총|최강욱|추미애|윤버버|황교안|간첩|안철수|윤통|자유한국당|미래통합당|보수|진보|기레기|검수완박|법조|공직|1찍|2찍|김동연|윤두창|박형준|이명박|대선|한녀|총선|정치병|정권|장관|유승민|개저씨|몸매'\n"
     ]
    }
   ],
   "source": [
    "with open(\"C:/Users/hwwe1/Desktop/ytb_tm_files/project_mj/train/filter_words_1.0.json\", encoding=\"utf-8\") as f:\n",
    "    filter_words = json.load(f)\n",
    "filter_words = [str(word) for word in filter_words]\n",
    "filter_words = str(filter_words).strip(\"[]\")\n",
    "print(filter_words)"
   ]
  },
  {
   "cell_type": "code",
   "execution_count": 30,
   "id": "f7047077",
   "metadata": {},
   "outputs": [],
   "source": [
    "filter_words_new = '예수|하나님|석열|슬롯|문재인|문재앙|이재명|윤석열|민주당|한동훈|장관|법무부|더불어민주당|허경영|전라도|대깨문|좌파|우파|극우|극좌|이준석|정치|국회의원|선전|선동|사상|검찰|대통령|천공|건희|국민의힘|국힘|운동권|탄핵|정권교체|좌좀|이념|일베|클리앙|남팍|홍어|노무현|김대중|땅끄|전두환|국회|국개|의원|오세훈|검새|완박|새누리|박근혜|우병우|최순실|대남|국정|청문회|박정희|이승만|야당|여당|민노총|최강욱|추미애|윤버버|황교안|간첩|안철수|윤통|자유한국당|미래통합당|보수|진보|검수완박|법조|공직|1찍|2찍|김동연|윤두창|박형준|이명박|대선|총선|정치병|정권|장관|유승민'"
   ]
  },
  {
   "cell_type": "code",
   "execution_count": 31,
   "id": "e76593d9",
   "metadata": {},
   "outputs": [
    {
     "data": {
      "text/plain": [
       "'예수|하나님|석열|슬롯|문재인|문재앙|이재명|윤석열|민주당|한동훈|장관|법무부|더불어민주당|허경영|전라도|대깨문|좌파|우파|극우|극좌|이준석|정치|국회의원|선전|선동|사상|검찰|대통령|천공|건희|국민의힘|국힘|운동권|탄핵|정권교체|좌좀|이념|일베|클리앙|남팍|홍어|노무현|김대중|땅끄|전두환|국회|국개|의원|오세훈|검새|완박|새누리|박근혜|우병우|최순실|대남|국정|청문회|박정희|이승만|야당|여당|민노총|최강욱|추미애|윤버버|황교안|간첩|안철수|윤통|자유한국당|미래통합당|보수|진보|검수완박|법조|공직|1찍|2찍|김동연|윤두창|박형준|이명박|대선|총선|정치병|정권|장관|유승민'"
      ]
     },
     "execution_count": 31,
     "metadata": {},
     "output_type": "execute_result"
    }
   ],
   "source": [
    "filter_words_new"
   ]
  },
  {
   "cell_type": "code",
   "execution_count": 32,
   "id": "6ca4bde0",
   "metadata": {},
   "outputs": [],
   "source": [
    "def write_json(data, filename):\n",
    "    with open(filename, 'w') as file:\n",
    "        json.dump(data, file)\n",
    "\n",
    "write_json(filter_words_new, 'political_comments_dict.json')"
   ]
  },
  {
   "cell_type": "code",
   "execution_count": 33,
   "id": "1c454b8b",
   "metadata": {},
   "outputs": [],
   "source": [
    "with open('political_comments_dict.json', encoding=\"utf-8\") as f:\n",
    "    filter_words = json.load(f)\n"
   ]
  },
  {
   "cell_type": "code",
   "execution_count": 34,
   "id": "99acca58",
   "metadata": {},
   "outputs": [
    {
     "data": {
      "text/plain": [
       "'예수|하나님|석열|슬롯|문재인|문재앙|이재명|윤석열|민주당|한동훈|장관|법무부|더불어민주당|허경영|전라도|대깨문|좌파|우파|극우|극좌|이준석|정치|국회의원|선전|선동|사상|검찰|대통령|천공|건희|국민의힘|국힘|운동권|탄핵|정권교체|좌좀|이념|일베|클리앙|남팍|홍어|노무현|김대중|땅끄|전두환|국회|국개|의원|오세훈|검새|완박|새누리|박근혜|우병우|최순실|대남|국정|청문회|박정희|이승만|야당|여당|민노총|최강욱|추미애|윤버버|황교안|간첩|안철수|윤통|자유한국당|미래통합당|보수|진보|검수완박|법조|공직|1찍|2찍|김동연|윤두창|박형준|이명박|대선|총선|정치병|정권|장관|유승민'"
      ]
     },
     "execution_count": 34,
     "metadata": {},
     "output_type": "execute_result"
    }
   ],
   "source": [
    "filter_words"
   ]
  },
  {
   "cell_type": "code",
   "execution_count": null,
   "id": "85218fbb",
   "metadata": {},
   "outputs": [],
   "source": []
  }
 ],
 "metadata": {
  "kernelspec": {
   "display_name": "Python 3 (ipykernel)",
   "language": "python",
   "name": "python3"
  },
  "language_info": {
   "codemirror_mode": {
    "name": "ipython",
    "version": 3
   },
   "file_extension": ".py",
   "mimetype": "text/x-python",
   "name": "python",
   "nbconvert_exporter": "python",
   "pygments_lexer": "ipython3",
   "version": "3.9.13"
  }
 },
 "nbformat": 4,
 "nbformat_minor": 5
}
